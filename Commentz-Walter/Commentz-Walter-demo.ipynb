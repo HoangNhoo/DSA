{
 "cells": [
  {
   "cell_type": "code",
   "execution_count": 1,
   "metadata": {
    "ExecuteTime": {
     "end_time": "2024-12-06T19:42:00.745980Z",
     "start_time": "2024-12-06T19:42:00.410349Z"
    }
   },
   "outputs": [],
   "source": [
    "from manim import *\n",
    "\n",
    "config.media_width = \"75%\"\n",
    "config.verbosity = \"WARNING\""
   ]
  },
  {
   "cell_type": "code",
   "execution_count": 5,
   "metadata": {
    "ExecuteTime": {
     "end_time": "2024-12-06T19:37:16.664465Z",
     "start_time": "2024-12-06T19:37:16.635485Z"
    }
   },
   "outputs": [
    {
     "name": "stderr",
     "output_type": "stream",
     "text": [
      "UsageError: Line magic function `%%manim` not found.\n"
     ]
    }
   ],
   "source": [
    "document = \"diduduadi\"\n",
    "keywords = {\"di\", \"du\", \"didu\", \"dudua\", \"duadi\", \"didi\"}\n",
    "\n",
    "%%manim -qm TrieAnimation\n",
    "\n",
    "class TrieAnimation(Scene):\n",
    "    def construct(self):\n",
    "        # Title\n",
    "        title = Text(\"Commentz-Walter Algorithm Visualization\").scale(0.8)\n",
    "        self.play(Write(title))\n",
    "        self.play(title.animate.to_edge(UP))\n",
    "        self.play(FadeOut(title))\n",
    "        self.wait()\n",
    "\n",
    "        # Initialize Trie\n",
    "        trie_root = Circle(radius=0.3).set_fill(WHITE, opacity=0.3)\n",
    "        trie_root.move_to(RIGHT * 5)\n",
    "        root_label = Text(\"root\").scale(0.4).next_to(trie_root, UP, buff=0.1)\n",
    "\n",
    "        self.play(Create(trie_root), Write(root_label))\n",
    "        self.wait()\n",
    "        # Create Trie node\n",
    "        def create_trie_node(letter, position):\n",
    "            node = Circle(radius=0.3).set_fill(BLUE, opacity=0.3)\n",
    "            node.move_to(position)\n",
    "            label = Text(letter).scale(0.4).move_to(node.get_center())\n",
    "            return VGroup(node, label)\n",
    "        \n",
    "        cur_pos = trie_root.get_center()\n",
    "        d = create_trie_node('d', cur_pos + LEFT * 1.5)\n",
    "        edge = Line(cur_pos, d[0].get_center(), buff = 0.3)\n",
    "        self.play(Create(edge), Create(d))\n",
    "        self.wait()\n",
    "\n",
    "        cur_pos = d[0].get_center()\n",
    "        di = create_trie_node('i', cur_pos + UP * 2 + LEFT * 1.5)\n",
    "        edge = Line(cur_pos, di[0].get_center(), buff = 0.3)\n",
    "        self.play(Create(edge), Create(di))\n",
    "        self.wait()\n",
    "\n",
    "        du = create_trie_node('u', cur_pos + DOWN * 2 + LEFT * 1.5)\n",
    "        edge = Line(cur_pos, du[0].get_center(), buff = 0.3)\n",
    "        self.play(Create(edge), Create(du))\n",
    "        self.wait()\n",
    "\n",
    "\n",
    "        \n"
   ]
  }
 ],
 "metadata": {
  "kernelspec": {
   "display_name": "Python 3 (ipykernel)",
   "language": "python",
   "name": "python3"
  },
  "language_info": {
   "codemirror_mode": {
    "name": "ipython",
    "version": 3
   },
   "file_extension": ".py",
   "mimetype": "text/x-python",
   "name": "python",
   "nbconvert_exporter": "python",
   "pygments_lexer": "ipython3",
   "version": "3.10.16"
  }
 },
 "nbformat": 4,
 "nbformat_minor": 4
}
